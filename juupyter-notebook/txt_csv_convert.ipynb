{
 "cells": [
  {
   "cell_type": "markdown",
   "metadata": {},
   "source": [
    "20191104"
   ]
  },
  {
   "cell_type": "markdown",
   "metadata": {},
   "source": [
    "ダウンロードしたtxtをcsvに変換する"
   ]
  },
  {
   "cell_type": "code",
   "execution_count": 1,
   "metadata": {},
   "outputs": [],
   "source": [
    "import pandas as pd"
   ]
  },
  {
   "cell_type": "code",
   "execution_count": 2,
   "metadata": {},
   "outputs": [],
   "source": [
    "df = pd.read_csv(\"data/T-TPM-100.txt\", sep='\\t')"
   ]
  },
  {
   "cell_type": "code",
   "execution_count": 3,
   "metadata": {},
   "outputs": [
    {
     "data": {
      "text/html": [
       "<div>\n",
       "<style scoped>\n",
       "    .dataframe tbody tr th:only-of-type {\n",
       "        vertical-align: middle;\n",
       "    }\n",
       "\n",
       "    .dataframe tbody tr th {\n",
       "        vertical-align: top;\n",
       "    }\n",
       "\n",
       "    .dataframe thead th {\n",
       "        text-align: right;\n",
       "    }\n",
       "</style>\n",
       "<table border=\"1\" class=\"dataframe\">\n",
       "  <thead>\n",
       "    <tr style=\"text-align: right;\">\n",
       "      <th></th>\n",
       "      <th>id</th>\n",
       "      <th>NM_000014</th>\n",
       "      <th>NM_000015</th>\n",
       "      <th>NM_000016</th>\n",
       "      <th>NM_000017</th>\n",
       "      <th>NM_000018</th>\n",
       "      <th>NM_000019</th>\n",
       "      <th>NM_000020</th>\n",
       "      <th>NM_000021</th>\n",
       "      <th>NM_000022</th>\n",
       "      <th>...</th>\n",
       "      <th>NR_130975</th>\n",
       "      <th>NR_130976</th>\n",
       "      <th>NR_130977</th>\n",
       "      <th>NR_130978</th>\n",
       "      <th>NR_130990</th>\n",
       "      <th>NR_131012</th>\n",
       "      <th>NR_131032</th>\n",
       "      <th>NR_131066</th>\n",
       "      <th>NR_131091</th>\n",
       "      <th>NR_131092</th>\n",
       "    </tr>\n",
       "  </thead>\n",
       "  <tbody>\n",
       "    <tr>\n",
       "      <th>0</th>\n",
       "      <td>DRR000897</td>\n",
       "      <td>2.01043</td>\n",
       "      <td>0.000000</td>\n",
       "      <td>41.8996</td>\n",
       "      <td>7.14537</td>\n",
       "      <td>166.3490</td>\n",
       "      <td>61.9589</td>\n",
       "      <td>0.0</td>\n",
       "      <td>11.3750</td>\n",
       "      <td>3.10128</td>\n",
       "      <td>...</td>\n",
       "      <td>0.0</td>\n",
       "      <td>0.0</td>\n",
       "      <td>0.000000</td>\n",
       "      <td>0.0</td>\n",
       "      <td>0.0</td>\n",
       "      <td>0.273170</td>\n",
       "      <td>0.0</td>\n",
       "      <td>0.434368</td>\n",
       "      <td>0.0</td>\n",
       "      <td>0.0</td>\n",
       "    </tr>\n",
       "    <tr>\n",
       "      <th>1</th>\n",
       "      <td>DRR001173</td>\n",
       "      <td>0.00000</td>\n",
       "      <td>0.200049</td>\n",
       "      <td>21.9467</td>\n",
       "      <td>20.89280</td>\n",
       "      <td>125.0440</td>\n",
       "      <td>93.3776</td>\n",
       "      <td>0.0</td>\n",
       "      <td>20.2166</td>\n",
       "      <td>5.27255</td>\n",
       "      <td>...</td>\n",
       "      <td>0.0</td>\n",
       "      <td>0.0</td>\n",
       "      <td>0.000000</td>\n",
       "      <td>0.0</td>\n",
       "      <td>0.0</td>\n",
       "      <td>2.178310</td>\n",
       "      <td>0.0</td>\n",
       "      <td>0.428407</td>\n",
       "      <td>0.0</td>\n",
       "      <td>0.0</td>\n",
       "    </tr>\n",
       "    <tr>\n",
       "      <th>2</th>\n",
       "      <td>DRR001174</td>\n",
       "      <td>0.00000</td>\n",
       "      <td>0.000000</td>\n",
       "      <td>25.1586</td>\n",
       "      <td>13.51150</td>\n",
       "      <td>30.1159</td>\n",
       "      <td>108.0010</td>\n",
       "      <td>0.0</td>\n",
       "      <td>21.0022</td>\n",
       "      <td>5.26211</td>\n",
       "      <td>...</td>\n",
       "      <td>0.0</td>\n",
       "      <td>0.0</td>\n",
       "      <td>1.384980</td>\n",
       "      <td>0.0</td>\n",
       "      <td>0.0</td>\n",
       "      <td>1.824380</td>\n",
       "      <td>0.0</td>\n",
       "      <td>1.012060</td>\n",
       "      <td>0.0</td>\n",
       "      <td>0.0</td>\n",
       "    </tr>\n",
       "    <tr>\n",
       "      <th>3</th>\n",
       "      <td>DRR001175</td>\n",
       "      <td>0.00000</td>\n",
       "      <td>0.000000</td>\n",
       "      <td>17.9916</td>\n",
       "      <td>6.60969</td>\n",
       "      <td>19.5618</td>\n",
       "      <td>74.1284</td>\n",
       "      <td>0.0</td>\n",
       "      <td>24.0081</td>\n",
       "      <td>3.53061</td>\n",
       "      <td>...</td>\n",
       "      <td>0.0</td>\n",
       "      <td>0.0</td>\n",
       "      <td>0.329159</td>\n",
       "      <td>0.0</td>\n",
       "      <td>0.0</td>\n",
       "      <td>0.657773</td>\n",
       "      <td>0.0</td>\n",
       "      <td>0.459928</td>\n",
       "      <td>0.0</td>\n",
       "      <td>0.0</td>\n",
       "    </tr>\n",
       "    <tr>\n",
       "      <th>4</th>\n",
       "      <td>DRR001176</td>\n",
       "      <td>0.00000</td>\n",
       "      <td>0.000000</td>\n",
       "      <td>14.3253</td>\n",
       "      <td>7.05922</td>\n",
       "      <td>110.2190</td>\n",
       "      <td>69.9635</td>\n",
       "      <td>0.0</td>\n",
       "      <td>14.7967</td>\n",
       "      <td>2.50536</td>\n",
       "      <td>...</td>\n",
       "      <td>0.0</td>\n",
       "      <td>0.0</td>\n",
       "      <td>1.921370</td>\n",
       "      <td>0.0</td>\n",
       "      <td>0.0</td>\n",
       "      <td>0.778309</td>\n",
       "      <td>0.0</td>\n",
       "      <td>0.490598</td>\n",
       "      <td>0.0</td>\n",
       "      <td>0.0</td>\n",
       "    </tr>\n",
       "  </tbody>\n",
       "</table>\n",
       "<p>5 rows × 49800 columns</p>\n",
       "</div>"
      ],
      "text/plain": [
       "          id  NM_000014  NM_000015  NM_000016  NM_000017  NM_000018  \\\n",
       "0  DRR000897    2.01043   0.000000    41.8996    7.14537   166.3490   \n",
       "1  DRR001173    0.00000   0.200049    21.9467   20.89280   125.0440   \n",
       "2  DRR001174    0.00000   0.000000    25.1586   13.51150    30.1159   \n",
       "3  DRR001175    0.00000   0.000000    17.9916    6.60969    19.5618   \n",
       "4  DRR001176    0.00000   0.000000    14.3253    7.05922   110.2190   \n",
       "\n",
       "   NM_000019  NM_000020  NM_000021  NM_000022  ...  NR_130975  NR_130976  \\\n",
       "0    61.9589        0.0    11.3750    3.10128  ...        0.0        0.0   \n",
       "1    93.3776        0.0    20.2166    5.27255  ...        0.0        0.0   \n",
       "2   108.0010        0.0    21.0022    5.26211  ...        0.0        0.0   \n",
       "3    74.1284        0.0    24.0081    3.53061  ...        0.0        0.0   \n",
       "4    69.9635        0.0    14.7967    2.50536  ...        0.0        0.0   \n",
       "\n",
       "   NR_130977  NR_130978  NR_130990  NR_131012  NR_131032  NR_131066  \\\n",
       "0   0.000000        0.0        0.0   0.273170        0.0   0.434368   \n",
       "1   0.000000        0.0        0.0   2.178310        0.0   0.428407   \n",
       "2   1.384980        0.0        0.0   1.824380        0.0   1.012060   \n",
       "3   0.329159        0.0        0.0   0.657773        0.0   0.459928   \n",
       "4   1.921370        0.0        0.0   0.778309        0.0   0.490598   \n",
       "\n",
       "   NR_131091  NR_131092  \n",
       "0        0.0        0.0  \n",
       "1        0.0        0.0  \n",
       "2        0.0        0.0  \n",
       "3        0.0        0.0  \n",
       "4        0.0        0.0  \n",
       "\n",
       "[5 rows x 49800 columns]"
      ]
     },
     "execution_count": 3,
     "metadata": {},
     "output_type": "execute_result"
    }
   ],
   "source": [
    "df.head()"
   ]
  },
  {
   "cell_type": "code",
   "execution_count": 4,
   "metadata": {},
   "outputs": [],
   "source": [
    "df.to_csv(\"data/T-TPM-100_test.csv\", sep='\\t', header=False, index=False)"
   ]
  },
  {
   "cell_type": "markdown",
   "metadata": {},
   "source": [
    "スクリプトへ"
   ]
  },
  {
   "cell_type": "markdown",
   "metadata": {},
   "source": [
    "txt2csv.py"
   ]
  },
  {
   "cell_type": "code",
   "execution_count": null,
   "metadata": {},
   "outputs": [],
   "source": [
    "import pandas as pd\n",
    "import sys\n",
    "\n",
    "args = sys.argv\n",
    "input_txt = args[1]\n",
    "output_csv = args[2]\n",
    "\n",
    "df = pd.read_csv(input_txt, sep='\\t')\n",
    "df.to_csv(output_csv, sep='\\t', header=False, index=False)"
   ]
  },
  {
   "cell_type": "markdown",
   "metadata": {},
   "source": [
    "使い方"
   ]
  },
  {
   "cell_type": "code",
   "execution_count": null,
   "metadata": {},
   "outputs": [],
   "source": [
    "!python3 txt2csv.py T-TPM.txt T-TPM.csv"
   ]
  },
  {
   "cell_type": "code",
   "execution_count": null,
   "metadata": {},
   "outputs": [],
   "source": []
  }
 ],
 "metadata": {
  "kernelspec": {
   "display_name": "Python 3",
   "language": "python",
   "name": "python3"
  },
  "language_info": {
   "codemirror_mode": {
    "name": "ipython",
    "version": 3
   },
   "file_extension": ".py",
   "mimetype": "text/x-python",
   "name": "python",
   "nbconvert_exporter": "python",
   "pygments_lexer": "ipython3",
   "version": "3.7.3"
  },
  "toc": {
   "base_numbering": 1,
   "nav_menu": {},
   "number_sections": true,
   "sideBar": true,
   "skip_h1_title": false,
   "title_cell": "Table of Contents",
   "title_sidebar": "Contents",
   "toc_cell": false,
   "toc_position": {},
   "toc_section_display": true,
   "toc_window_display": false
  }
 },
 "nbformat": 4,
 "nbformat_minor": 2
}
